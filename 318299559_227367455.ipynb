{
  "nbformat": 4,
  "nbformat_minor": 0,
  "metadata": {
    "kernelspec": {
      "display_name": "Python 3",
      "language": "python",
      "name": "python3"
    },
    "language_info": {
      "codemirror_mode": {
        "name": "ipython",
        "version": 3
      },
      "file_extension": ".py",
      "mimetype": "text/x-python",
      "name": "python",
      "nbconvert_exporter": "python",
      "pygments_lexer": "ipython3",
      "version": "3.7.3"
    },
    "colab": {
      "name": "318299559_DANID.ipynb",
      "provenance": []
    }
  },
  "cells": [
    {
      "cell_type": "markdown",
      "metadata": {
        "id": "AryniiIuZoNw"
      },
      "source": [
        "### IDs:\n",
        "Insert yours IDs to the cell below"
      ]
    },
    {
      "cell_type": "markdown",
      "metadata": {
        "id": "N-rm5cwpZoN1"
      },
      "source": [
        "ID #1: 318299559\n",
        "\n",
        "ID #2: DANID\n"
      ]
    },
    {
      "cell_type": "markdown",
      "metadata": {
        "id": "t6dBmrK3ZoN1"
      },
      "source": [
        "## Read the following instructions carefully:\n",
        "\n",
        "1. This jupyter notebook contains all the step by step instructions needed for this exercise.\n",
        "1. You are free to add cells.\n",
        "1. Write your functions and your answers in this jupyter notebook only.\n",
        "1. Answers to theoretical questions should be written in **markdown cells (with $\\LaTeX$ support)**.\n",
        "1. Submit this jupyter notebook only using your ID as a filename. Not to use ZIP or RAR. For example, your Moodle submission file name should look like this (two id numbers): `123456789_987654321.ipynb`."
      ]
    },
    {
      "cell_type": "markdown",
      "metadata": {
        "id": "O8ZEGfZgZoN1"
      },
      "source": [
        "### Question 1 - Defective products"
      ]
    },
    {
      "cell_type": "markdown",
      "metadata": {
        "id": "zC6uUGfHZoN2"
      },
      "source": [
        "In a manufacturing pipeline products are 3% defective. We are interested in examining a defective product to see what goes wrong on the belt. We need to ask the facility manager to send us a set of independent samples for examination."
      ]
    },
    {
      "cell_type": "markdown",
      "metadata": {
        "id": "W9h_S_HTZoN2"
      },
      "source": [
        "#### 1.A\n",
        "\n",
        "How many independent samples should we ask for in order to have a 85% probability of having at least one defective product in the batch sent? You should write a function."
      ]
    },
    {
      "cell_type": "code",
      "metadata": {
        "colab": {
          "base_uri": "https://localhost:8080/"
        },
        "id": "5cnVYCeMZoN2",
        "outputId": "10835142-596d-4068-af2f-c248e970aa54"
      },
      "source": [
        "from scipy.stats import binom\n",
        "\n",
        "def func1(prob,p_defective,k,limit=1000000):\n",
        "    n = 0\n",
        "    k= k-1\n",
        "    for n in range(limit):\n",
        "        if 1-binom.cdf(k,n,p_defective) > prob:\n",
        "            return n\n",
        "    return -1\n",
        "\n",
        "prob = 0.85\n",
        "p_defective = 0.03\n",
        "at_least_X_defective = 1\n",
        "\n",
        "func1(prob,p_defective,at_least_X_defective)"
      ],
      "execution_count": 64,
      "outputs": [
        {
          "output_type": "execute_result",
          "data": {
            "text/plain": [
              "63"
            ]
          },
          "metadata": {},
          "execution_count": 64
        }
      ]
    },
    {
      "cell_type": "markdown",
      "metadata": {
        "id": "xdrqQVFSb2BA"
      },
      "source": [
        "We should therefore ask for 63 samples."
      ]
    },
    {
      "cell_type": "markdown",
      "metadata": {
        "id": "14cYluSAZoN3"
      },
      "source": [
        "#### 1.B\n",
        "Answer this part again with the following changes: products are 4% defective and we want a 95% probability of at least one defective product in the batch."
      ]
    },
    {
      "cell_type": "code",
      "metadata": {
        "colab": {
          "base_uri": "https://localhost:8080/"
        },
        "id": "ZkLVMtGVZoN3",
        "outputId": "ee9d6cbb-44ee-447a-8fdb-d34b28a248b4"
      },
      "source": [
        "func1(0.95, 0.04, 1)"
      ],
      "execution_count": 65,
      "outputs": [
        {
          "output_type": "execute_result",
          "data": {
            "text/plain": [
              "74"
            ]
          },
          "metadata": {},
          "execution_count": 65
        }
      ]
    },
    {
      "cell_type": "markdown",
      "metadata": {
        "id": "HrQHFi8Ecarq"
      },
      "source": [
        "We should therefore ask for 74 samples."
      ]
    },
    {
      "cell_type": "markdown",
      "metadata": {
        "id": "pGVEPVxaZoN3"
      },
      "source": [
        "#### 1.C \n",
        "\n",
        "Consider the following cases and calculate how many independent samples are required: \n",
        "\n",
        "1. Products are 10% defective and we want a 90% probability of at least 5 defective products in the batch.\n",
        "1. Products are 30% defective and we want a 90% probability of at least 15 defective products in the batch.\n",
        "\n",
        "Explain the difference between the two results. You should use mathematical reasoning based on the properties of distributions you saw in class and visualizations in your answer."
      ]
    },
    {
      "cell_type": "code",
      "metadata": {
        "colab": {
          "base_uri": "https://localhost:8080/"
        },
        "id": "5JkxsF67ZoN4",
        "outputId": "a0c3beb3-5fc5-41d8-875b-a4fa64b159ac"
      },
      "source": [
        "print(\"1:\",func1(0.9, 0.1, 5),\"\\n2:\", func1(0.9, 0.3, 15))"
      ],
      "execution_count": 66,
      "outputs": [
        {
          "output_type": "stream",
          "name": "stdout",
          "text": [
            "1: 78 \n",
            "2: 64\n"
          ]
        }
      ]
    },
    {
      "cell_type": "markdown",
      "metadata": {
        "id": "SMvlOUXLdQkW"
      },
      "source": [
        "We see that a probability three times as great for a defective product with at least 3 times more defective products in the batch leads to a rather significantly lower required number of samples. This is a direct result of the binomial formula, where the probability of a sample to be defective is more significant."
      ]
    },
    {
      "cell_type": "code",
      "metadata": {
        "id": "cD6LVYSmeBA5"
      },
      "source": [
        "#Graphical representation"
      ],
      "execution_count": 67,
      "outputs": []
    },
    {
      "cell_type": "markdown",
      "metadata": {
        "id": "tNtqPIYBZoN4"
      },
      "source": [
        "### Question 2 - Rent distributions in Randomistan"
      ]
    },
    {
      "cell_type": "markdown",
      "metadata": {
        "id": "B35xluP-ZoN5"
      },
      "source": [
        "The state of Randomistan conducted a survey to study the distribution of rent paid in two neighboring towns, Stochastic Heights and Random Grove, to be denoted SH and RG.<br> \n",
        "\n",
        "Here are some findings of the survey:\n",
        "* The population of SH and RG is 16,000 and 22,000 respectively. <br>\n",
        "* The mean rent in SH and RG is 6300RCU and 4200RCU respectively.\n",
        "* The median rent is 4600RCU in both towns.\n",
        "* The IQR of the rent is smaller in SH than in RG.\n",
        "\n",
        "All data generated in this question needs to be consistent with these findings."
      ]
    },
    {
      "cell_type": "markdown",
      "metadata": {
        "id": "MeQhE3P9ZoN5"
      },
      "source": [
        "#### 2.A\n",
        "Draw histograms that describe 2 different scenarii of possible distributions of rent in the two towns.\u000bYour histograms should:<br>\n",
        "* Use bins of 100RCU each.\n",
        "* Have at least 10 non zero bins."
      ]
    },
    {
      "cell_type": "code",
      "metadata": {
        "id": "DNvOTF-FZoN5",
        "colab": {
          "base_uri": "https://localhost:8080/"
        },
        "outputId": "c0659b16-edcd-498a-8725-bbb5f222d6a6"
      },
      "source": [
        "import numpy as np\n",
        "import scipy as sp\n",
        "from scipy.stats import iqr\n",
        "\n",
        "SH = {}\n",
        "SH['population'] = 16000\n",
        "SH['MEAN'] = 6300\n",
        "SH['MEDIAN'] = 4600\n",
        "SH['LOW'] = 1500\n",
        "SH['HIGH'] = 8000\n",
        "\n",
        "RG = {}\n",
        "RG['population'] = 22000\n",
        "RG['MEAN'] = 4200\n",
        "RG['MEDIAN'] = 4600\n",
        "RG['LOW'] = 100\n",
        "RG['HIGH'] = 10000\n",
        "\n",
        "# Create SH First scenario\n",
        "SH['low1'] = np.random.randint(low=SH['LOW'],high=SH['MEDIAN'],size=int(SH['population']/2)-1)\n",
        "SH['high1'] = np.random.randint(low=SH['MEDIAN'],high=SH['HIGH'],size=int(SH['population']/2)-1)\n",
        "\n",
        "# set the median\n",
        "SH['values1'] = np.concatenate([SH['low1'],[SH['MEDIAN'],SH['MEDIAN']],SH['high1']])\n",
        "\n",
        "# adjust the mean\n",
        "SH['high1'] = SH['high1'] + 2*(SH['MEAN']-np.mean(SH['values1']))\n",
        "SH['values1'] = np.concatenate([SH['low1'],[SH['MEDIAN'],SH['MEDIAN']],SH['high1']])\n",
        "\n",
        "\n",
        "# Create RG First scenario\n",
        "RG['low1'] = np.random.randint(low=RG['LOW'],high=0.1*RG['MEDIAN'],size=int(RG['population']/2)-1)\n",
        "RG['high1'] = np.random.randint(low=RG['MEDIAN'],high=RG['HIGH'],size=int(RG['population']/2)-1)\n",
        "# set the median\n",
        "RG['values1'] = np.concatenate([RG['low1'],[RG['MEDIAN'],RG['MEDIAN']],RG['high1']])\n",
        "# adjust the mean\n",
        "RG['high1'] = RG['high1'] + 2*(RG['MEAN']-np.mean(RG['values1']))\n",
        "RG['values1'] = np.concatenate([RG['low1'],[RG['MEDIAN'],RG['MEDIAN']],RG['high1']])\n",
        "\n",
        "\n",
        "print('RG1 Mean={0} Median={1} IQR={2}'.format(round(np.mean(RG['values1'])),round(np.median(RG['values1'])),round(iqr(RG['values1']))))\n",
        "print('SH1 Mean={0} Median={1} IQR={2}'.format(round(np.mean(SH['values1'])),round(np.median(SH['values1'])),round(iqr(SH['values1']))))"
      ],
      "execution_count": 68,
      "outputs": [
        {
          "output_type": "stream",
          "name": "stdout",
          "text": [
            "RG1 Mean=4200 Median=4600 IQR=7864\n",
            "SH1 Mean=6300 Median=4600 IQR=6460\n"
          ]
        }
      ]
    },
    {
      "cell_type": "code",
      "metadata": {
        "colab": {
          "base_uri": "https://localhost:8080/",
          "height": 645
        },
        "id": "eu308_Giv7HA",
        "outputId": "dc192b42-56b9-4324-dccd-a6104c033a36"
      },
      "source": [
        "import seaborn as sns\n",
        "import matplotlib.pyplot as plt\n",
        "\n",
        "plt.figure(figsize=(20, 10))\n",
        "\n",
        "bins = max(int((np.max(SH['values1'])-np.min(SH['values1']))/100),int((np.max(RG['values1'])-np.min(RG['values1']))/100))\n",
        "s1 = sns.histplot(SH['values1'],kde=False,bins=bins,label='SH', color='Orange')\n",
        "s2 = sns.histplot(RG['values1'],kde=False,bins=bins,label='RG', color='Blue')\n",
        "\n",
        "rg = 'RG1\\nMean={0}\\nMedian={1}\\nIQR={2}'.format(round(np.mean(RG['values1'])),round(np.median(RG['values1'])),round(iqr(RG['values1'])))\n",
        "sh = 'SH1\\nMean={0}\\nMedian={1}\\nIQR={2}'.format(  round(np.mean(SH['values1'])),round(np.median(SH['values1'])),round(iqr(SH['values1'])) )\n",
        "plt.text(x=1500, y=2500, s=sh, fontsize=15)\n",
        "plt.text(x=3500, y=2500, s=rg, fontsize=15)\n",
        "\n",
        "plt.rc('font', size=20) \n",
        "plt.xlabel('RCU',size=20)\n",
        "plt.ylabel('Frequency',size=20) \n",
        "plt.title('Scenario 1',size=20)\n",
        "plt.legend()\n",
        "plt.show()"
      ],
      "execution_count": 69,
      "outputs": [
        {
          "output_type": "display_data",
          "data": {
            "image/png": "[encoded data removed]",
            "text/plain": [
              "<Figure size 1440x720 with 1 Axes>"
            ]
          },
          "metadata": {
            "needs_background": "light"
          }
        }
      ]
    },
    {
      "cell_type": "code",
      "metadata": {
        "colab": {
          "base_uri": "https://localhost:8080/"
        },
        "id": "8EgmBEADvuUP",
        "outputId": "237ff8c8-57a9-4c87-cc77-247850c7f50d"
      },
      "source": [
        "# Create SH Second scenario\n",
        "SH['low2'] = np.random.randint(low=SH['LOW'],high=SH['MEDIAN'],size=int(SH['population']/2)-1)\n",
        "SH['high2'] = np.random.randint(low=SH['MEDIAN'],high=SH['HIGH'],size=int(SH['population']/2)-1)\n",
        "\n",
        "# set the median\n",
        "SH['values2'] = np.concatenate([SH['low2'],[SH['MEDIAN'],SH['MEDIAN']],SH['high2']])\n",
        "\n",
        "# adjust the mean\n",
        "SH['high2'] = SH['high2'] + 2*(SH['MEAN']-np.mean(SH['values2']))\n",
        "SH['values2'] = np.concatenate([SH['low2'],[SH['MEDIAN'],SH['MEDIAN']],SH['high2']])\n",
        "\n",
        "\n",
        "# Create RG Second scenario\n",
        "RG['low2'] = np.random.randint(low=RG['LOW'],high=0.1*RG['MEDIAN'],size=int(RG['population']/2)-1)\n",
        "RG['high2'] = np.random.randint(low=RG['MEDIAN'],high=RG['HIGH'],size=int(RG['population']/2)-1)\n",
        "# set the median\n",
        "RG['values2'] = np.concatenate([RG['low2'],[RG['MEDIAN'],RG['MEDIAN']],RG['high2']])\n",
        "# adjust the mean\n",
        "RG['high2'] = RG['high2'] + 2*(RG['MEAN']-np.mean(RG['values2']))\n",
        "RG['values2'] = np.concatenate([RG['low2'],[RG['MEDIAN'],RG['MEDIAN']],RG['high2']])\n",
        "\n",
        "\n",
        "print('RG2 Mean={0} Median={1} IQR={2}'.format(round(np.mean(RG['values2'])),round(np.median(RG['values2'])),round(iqr(RG['values2']))))\n",
        "print('SH2 Mean={0} Median={1} IQR={2}'.format(round(np.mean(SH['values2'])),round(np.median(SH['values2'])),round(iqr(SH['values2']))))"
      ],
      "execution_count": 70,
      "outputs": [
        {
          "output_type": "stream",
          "name": "stdout",
          "text": [
            "RG2 Mean=4200 Median=4600 IQR=7855\n",
            "SH2 Mean=6300 Median=4600 IQR=6477\n"
          ]
        }
      ]
    },
    {
      "cell_type": "code",
      "metadata": {
        "colab": {
          "base_uri": "https://localhost:8080/",
          "height": 701
        },
        "id": "EYV5MJ6Bwewp",
        "outputId": "90d5ec99-b155-4f47-baa9-3ea14d4e35b2"
      },
      "source": [
        "plt.figure(figsize=(20, 10))\n",
        "\n",
        "bins = max(int((np.max(SH['values2'])-np.min(SH['values2']))/100),int((np.max(RG['values2'])-np.min(RG['values2']))/100))\n",
        "\n",
        "s1 = sns.distplot(SH['values2'],kde=False,bins=bins,label='SH', color='Orange')\n",
        "s2 = sns.distplot(RG['values2'],kde=False,bins=bins,label='RG', color='Blue')\n",
        "\n",
        "rg = 'RG1\\nMean={0}\\nMedian={1}\\nIQR={2}'.format(round(np.mean(RG['values2'])),round(np.median(RG['values2'])),round(iqr(RG['values2'])))\n",
        "sh = 'SH1\\nMean={0}\\nMedian={1}\\nIQR={2}'.format(round(np.mean(SH['values2'])),round(np.median(SH['values2'])),round(iqr(SH['values2'])))\n",
        "\n",
        "plt.text(x=1500, y=2500, s=sh, fontsize=15)\n",
        "plt.text(x=3500, y=2500, s=rg, fontsize=15)\n",
        "\n",
        "plt.rc('font', size=20) \n",
        "plt.xlabel('RCU',size=20)\n",
        "plt.ylabel('Frequency',size=20) \n",
        "plt.title('Scenario 2',size=20)\n",
        "plt.legend()\n",
        "plt.show()"
      ],
      "execution_count": 71,
      "outputs": [
        {
          "output_type": "stream",
          "name": "stderr",
          "text": [
            "/usr/local/lib/python3.7/dist-packages/seaborn/distributions.py:2619: FutureWarning: `distplot` is a deprecated function and will be removed in a future version. Please adapt your code to use either `displot` (a figure-level function with similar flexibility) or `histplot` (an axes-level function for histograms).\n",
            "  warnings.warn(msg, FutureWarning)\n"
          ]
        },
        {
          "output_type": "display_data",
          "data": {
            "image/png": "[encoded data removed]",
            "text/plain": [
              "<Figure size 1440x720 with 1 Axes>"
            ]
          },
          "metadata": {
            "needs_background": "light"
          }
        }
      ]
    },
    {
      "cell_type": "markdown",
      "metadata": {
        "id": "e5DEK-QCZoN5"
      },
      "source": [
        "#### 2.B\n",
        "Draw a histogram of a third scenario with the same properties. <br>\n",
        "In addition, in this scenario the rent in SH should have a higher variance than the rent in RG."
      ]
    },
    {
      "cell_type": "code",
      "metadata": {
        "id": "nsR6agmpZoN5",
        "colab": {
          "base_uri": "https://localhost:8080/",
          "height": 701
        },
        "outputId": "464ef720-f6a5-4c72-8ec7-17eeca993165"
      },
      "source": [
        "a1 = [1 for i in range(2500)]\n",
        "a2 = [1000 for i in range(500)]\n",
        "a3 = [3000 for i in range(1000)]\n",
        "a4 = [3500 for i in range(750)]\n",
        "a5 = [4000 for i in range(1500)]\n",
        "aa = [6200 for i in range(500)]\n",
        "a6 = [7300 for i in range(500)]\n",
        "a7 = [6700 for i in range(750)]\n",
        "a8 = [7200 for i in range(1000)]\n",
        "a9 = [9800 for i in range(500)]\n",
        "a10 = [10900 for i in range(2500)]\n",
        "\n",
        "SH['values3'] = np.concatenate([ aa,a1,a2,a3,a4,a5,a6,a7,a8,a9,a10])\n",
        "\n",
        "# Create RG Third scenario\n",
        "RG['low3'] = np.random.randint(low=RG['LOW'],high=0.1*RG['MEDIAN'],size=int(RG['population']/2)-1)\n",
        "RG['high3'] = np.random.randint(low=RG['MEDIAN'],high=RG['HIGH'],size=int(RG['population']/2)-1)\n",
        "# set the median\n",
        "RG['values3'] = np.concatenate([RG['low3'],[RG['MEDIAN'],RG['MEDIAN']],RG['high3']])\n",
        "# adjust the mean\n",
        "RG['high3'] = RG['high3'] + 2*(RG['MEAN']-np.mean(RG['values3']))\n",
        "RG['values3'] = np.concatenate([RG['low3'],[RG['MEDIAN'],RG['MEDIAN']],RG['high3']])\n",
        "\n",
        "plt.figure(figsize=(20, 10))\n",
        "bins = int((np.max(RG['values3'])-np.min(RG['values3']))/100)\n",
        "s1 = sns.distplot(SH['values3'],kde=False,bins=bins,label='SH')\n",
        "s2 = sns.distplot(RG['values3'],kde=False,bins=bins,label='RG')\n",
        "\n",
        "temp = RG\n",
        "\n",
        "RG = SH\n",
        "\n",
        "SH = temp\n",
        "\n",
        "rg = 'RG3\\nMean={0}\\nMedian={1}\\nIQR={2}\\nVar={3}'.format(round(np.mean(RG['values3'])),round(np.median(RG['values3'])),round(iqr(RG['values3'])),round(np.var(RG['values3']))   )\n",
        "sh = 'SH3\\nMean={0}\\nMedian={1}\\nIQR={2}\\nvar={3}'.format(  round(np.mean(SH['values3'])),round(np.median(SH['values3'])),round(iqr(SH['values3'])),round(np.var(SH['values3']))   )\n",
        "plt.text(x=3000, y=2500, s=sh, fontsize=15)\n",
        "plt.text(x=4500, y=2500, s=rg, fontsize=15)\n",
        "\n",
        "plt.rc('font', size=20) \n",
        "plt.xlabel('RCU',size=20)\n",
        "plt.ylabel('Frequency',size=20) \n",
        "plt.title('Scenario 3',size=20)\n",
        "plt.legend()\n",
        "plt.show()\n"
      ],
      "execution_count": 72,
      "outputs": [
        {
          "output_type": "stream",
          "name": "stderr",
          "text": [
            "/usr/local/lib/python3.7/dist-packages/seaborn/distributions.py:2619: FutureWarning: `distplot` is a deprecated function and will be removed in a future version. Please adapt your code to use either `displot` (a figure-level function with similar flexibility) or `histplot` (an axes-level function for histograms).\n",
            "  warnings.warn(msg, FutureWarning)\n"
          ]
        },
        {
          "output_type": "display_data",
          "data": {
            "image/png": "[encoded data removed]",
            "text/plain": [
              "<Figure size 1440x720 with 1 Axes>"
            ]
          },
          "metadata": {
            "needs_background": "light"
          }
        }
      ]
    },
    {
      "cell_type": "markdown",
      "metadata": {
        "id": "qOxcegxGZoN6"
      },
      "source": [
        "The survey also examined the per household income (PHI) in these two places.<br>\n",
        "\n",
        "It found that:<br>\n",
        "* The mean of PHI in SH is 12500 and in RG is 8500.\n",
        "* The median is 12000 in SH and 8000 in RG.\n",
        "* The covariance of the rent and the PHI was observed to be as in the formula below with $\\alpha=97\\%$ and $\\alpha=89\\%$ in SH and in RG respectively.<br><br>\n",
        "$$Cov(rent, PHI) = \\alpha * \\sqrt{Var(rent)} * \\sqrt{Var(PHI)}$$\n",
        "\n",
        "#### 2.C\n",
        "Produce rent and PHI data for the two cities, that is consistent with these findings. The covariances in your data can deviate by up to 1% from the numbers given $\\alpha$."
      ]
    },
    {
      "cell_type": "code",
      "metadata": {
        "id": "m7oNsHwAZoN6",
        "colab": {
          "base_uri": "https://localhost:8080/"
        },
        "outputId": "0a1b4c1c-7c1a-4bb2-c080-4f5b75bd1dd9"
      },
      "source": [
        "import numpy as np\n",
        "import scipy as sp\n",
        "from scipy.stats import iqr\n",
        "\n",
        "SH['PHI_MEAN'] = 12500\n",
        "SH['PHI_MEDIAN'] = 12000\n",
        "SH['PHI_LOW'] = 2000\n",
        "SH['PHI_HIGH'] = 20000\n",
        "SH['alpha'] = 0.97\n",
        "\n",
        "RG['PHI_MEAN'] = 8500\n",
        "RG['PHI_MEDIAN'] = 8000\n",
        "RG['PHI_LOW'] = 2000\n",
        "RG['PHI_HIGH'] = 15000\n",
        "RG['alpha'] = 0.89\n",
        "\n",
        "# Create SH scenario\n",
        "SH['values4'] = np.array([120,280,450,3700,4000,4000,8000,8400,8600,9050,9500]*int(SH['population']/11))\n",
        "SH['PHI_values'] = np.array([5200,6300,8000,11000,12000,12000,14000,15700,16300,18000,19000]*int(SH['population']/11))\n",
        "\n",
        "# Create RG scenario\n",
        "RG['values4'] = np.array([120,380,580,820,3900,4000,4300,4500,4600,8400,9100]*int(RG['population']/11))\n",
        "RG['PHI_values'] = np.array([600,1000,1500,1800,2200,8000,10500,11800,17200,19100,19800]*int(RG['population']/11))\n",
        "\n",
        "print('SH Constraints:')\n",
        "print('SH rent: Mean={0} Median={1} IQR={2} var={3} cov={4}'.format(round(np.mean(SH['values4'])),round(np.median(SH['values4'])),round(iqr(SH['values4'])),round(np.var(SH['values4'])),int(np.cov(SH['values4']))  ))\n",
        "print('SH PHI:  Mean={0} Median={1} IQR={2} var={3} cov={4}'.format(round(np.mean(SH['PHI_values'])),round(np.median(SH['PHI_values'])),round(iqr(SH['PHI_values'])),round(np.var(SH['PHI_values'])),int(np.cov(SH['PHI_values']))     ))\n",
        "print()\n",
        "\n",
        "print('RG Constraints:')\n",
        "print('RG rent: Mean={0} Median={1} IQR={2} var={3} cov={4}'.format(round(np.mean(RG['values4'])),round(np.median(RG['values4'])),round(iqr(RG['values4'])),round(np.var(RG['values4'])),int(np.cov(RG['values4']))  ))\n",
        "print('RG PHI:  Mean={0} Median={1} IQR={2} var={3} cov={4}'.format(round(np.mean(RG['PHI_values'])),round(np.median(RG['PHI_values'])),round(iqr(RG['PHI_values'])),round(np.var(RG['PHI_values'])),int(np.cov(RG['PHI_values']))     ))\n",
        "print()\n",
        "\n",
        "sh_cov = np.cov(SH['values4'],SH['PHI_values'])[0,1]\n",
        "rg_cov = np.cov(RG['values4'],RG['PHI_values'])[0,1]\n",
        "\n",
        "sh_COV = 0.97*pow(np.var(SH['values4']),0.5)*pow(np.var(SH['PHI_values']),0.5)\n",
        "rg_COV = 0.97*pow(np.var(RG['values4']),0.5)*pow(np.var(RG['PHI_values']),0.5)\n",
        "\n",
        "sh_diff = round(abs(sh_cov-sh_COV)/sh_cov,3)\n",
        "rg_diff = round(abs(rg_cov-rg_COV)/rg_cov,3)\n",
        "\n",
        "print('SH: regular cov(rent,PHI)=' + str(round(sh_cov,3)))\n",
        "print('SH: formula COV(rent,PHI)=' + str(round(sh_COV,3)))\n",
        "print('SH: alpha = ' + str(sh_diff) +'%')\n",
        "\n",
        "print('RG: regular cov(rent,PHI)=' + str(round(rg_cov,3)))\n",
        "print('RG: formula COV(rent,PHI)=' + str(round(rg_COV,3)))\n",
        "print('SH: alpha = ' + str(rg_diff) +'%')"
      ],
      "execution_count": 73,
      "outputs": [
        {
          "output_type": "stream",
          "name": "stdout",
          "text": [
            "SH Constraints:\n",
            "SH rent: Mean=5100 Median=4000 IQR=8150 var=12777073 cov=12777653\n",
            "SH PHI:  Mean=12500 Median=12000 IQR=8300 var=19469091 cov=19469975\n",
            "\n",
            "RG Constraints:\n",
            "RG rent: Mean=3700 Median=4000 IQR=4020 var=8641600 cov=8642140\n",
            "RG PHI:  Mean=8500 Median=8000 IQR=15700 var=53010909 cov=53014223\n",
            "\n",
            "SH: regular cov(rent,PHI)=15355061.594\n",
            "SH: formula COV(rent,PHI)=15298901.701\n",
            "SH: alpha = 0.004%\n",
            "RG: regular cov(rent,PHI)=19584679.047\n",
            "RG: formula COV(rent,PHI)=20761151.626\n",
            "SH: alpha = 0.06%\n"
          ]
        }
      ]
    },
    {
      "cell_type": "markdown",
      "metadata": {
        "id": "AHmH2RdMZoN6"
      },
      "source": [
        "#### 2.D\n",
        "Produce two heatmaps that describe these two bivariate joint distributions. Make sure you carefully consider the selected binning resolution."
      ]
    },
    {
      "cell_type": "code",
      "metadata": {
        "id": "6o9MAstXZoN6"
      },
      "source": [
        ""
      ],
      "execution_count": 75,
      "outputs": []
    },
    {
      "cell_type": "markdown",
      "metadata": {
        "id": "n1VIH2OtZoN6"
      },
      "source": [
        "### Question 3 - Multinomial Distributions\n",
        "\n",
        "1. Let $X \\sim Multinomial(n,\\vec{p})$ be a multinomial random variable where $n=20$ and $\\vec{p} = (0.2,  0.1,  0.1,  0.1,  0.2,  0.3)$. Note that X is a vector of counts.\n",
        "\n",
        "\n",
        "2. Let $Y = X_2 + X_3 + X_4$ be a random variable.\n",
        "\n",
        "\n",
        "3. Create $k=100$ experiments where $X$ is sampled using Python. Calculate the empirical centralized third moment of $Y$ based on your $k$ experiments.\n",
        "\n",
        "\n",
        "4. Compare your result to the calculation in class for the centralized third moment of the **binomial** distribution and explain your observation."
      ]
    },
    {
      "cell_type": "code",
      "metadata": {
        "id": "FYpRwp2GZoN6"
      },
      "source": [
        ""
      ],
      "execution_count": null,
      "outputs": []
    },
    {
      "cell_type": "markdown",
      "metadata": {
        "id": "PA3F-JSVZoN6"
      },
      "source": [
        "### Question 4 - Covariance and independence"
      ]
    },
    {
      "cell_type": "markdown",
      "metadata": {
        "id": "JtKTcnzrZoN6"
      },
      "source": [
        "What is the variance of the sum X +Y + Z of three random variables in terms of the variances of X, Y and Z and the covariances between each pair of random variables? What happens if X,Y,Z are pairwise independent? If X,Y,Z are pairwise independent, are they necessarily collectively independent? Prove your answer."
      ]
    },
    {
      "cell_type": "code",
      "metadata": {
        "id": "_XdrG-saZoN7"
      },
      "source": [
        ""
      ],
      "execution_count": null,
      "outputs": []
    },
    {
      "cell_type": "markdown",
      "metadata": {
        "id": "5KRJGIM3ZoN7"
      },
      "source": [
        "### Question 5 - Convolutions"
      ]
    },
    {
      "cell_type": "markdown",
      "metadata": {
        "id": "boV_kCrsZoN7"
      },
      "source": [
        "#### 5.A\n",
        "Write a program, `Q = NFoldConv(P , n)`, that takes as input:\n",
        "* A distribution, P, of a random variable that takes finitely many integer values\n",
        "* An integer n\n",
        "\n",
        "and produces the distribution, Q, of the sum of n independent repeats of random variables, each of which has the distribution P."
      ]
    },
    {
      "cell_type": "code",
      "metadata": {
        "id": "rPcHWHB8ZoN7"
      },
      "source": [
        "import numpy as np\n",
        "import pandas as pd\n",
        "from itertools import product\n",
        "import matplotlib.pyplot as plt\n",
        "\n",
        "\n",
        "def NFoldConv(P , n):\n",
        "    t = {}\n",
        "    t['values'] = np.array(list(product(P['values'], repeat=n))).sum(axis=1)\n",
        "    t['prob'] = np.prod(list(product(P['prob'], repeat=n)),axis=1)\n",
        "    return pd.DataFrame(t).groupby(by='values').sum()"
      ],
      "execution_count": null,
      "outputs": []
    },
    {
      "cell_type": "markdown",
      "metadata": {
        "id": "kFxQyj1mZoN7"
      },
      "source": [
        "#### 5.B\n",
        "Compute the distribution of the sum of the results of rolling a fair octahedron 17 times.\n",
        "\n",
        "<img src=\"https://upload.wikimedia.org/wikipedia/commons/2/27/Octahedron.jpg\" width=\"200\">\n"
      ]
    },
    {
      "cell_type": "code",
      "metadata": {
        "id": "YPJ1YmlTZoN7"
      },
      "source": [
        "P={}\n",
        "P['values'] = np.array([1,2,3,4,5,6,7,8])\n",
        "P['prob'] = np.array([1/8 for i in range(8)])\n",
        "n=17\n",
        "\n",
        "df = NFoldConv(P, n)\n",
        "\n",
        "df.plot.bar(figsize=(20,10),title='distribution of the sum of the results of rolling a fair octahedron 17 times')"
      ],
      "execution_count": null,
      "outputs": []
    }
  ]
}